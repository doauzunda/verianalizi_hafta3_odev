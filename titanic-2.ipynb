{
 "cells": [
  {
   "cell_type": "code",
   "execution_count": 29,
   "id": "b6d21397-bb54-46bf-af90-b318b5051d5c",
   "metadata": {},
   "outputs": [],
   "source": [
    "import numpy as np\n",
    "import pandas as pd"
   ]
  },
  {
   "cell_type": "code",
   "execution_count": 31,
   "id": "3ddc6521-99f2-4de9-872a-2e440e9041de",
   "metadata": {},
   "outputs": [
    {
     "data": {
      "text/html": [
       "<div>\n",
       "<style scoped>\n",
       "    .dataframe tbody tr th:only-of-type {\n",
       "        vertical-align: middle;\n",
       "    }\n",
       "\n",
       "    .dataframe tbody tr th {\n",
       "        vertical-align: top;\n",
       "    }\n",
       "\n",
       "    .dataframe thead th {\n",
       "        text-align: right;\n",
       "    }\n",
       "</style>\n",
       "<table border=\"1\" class=\"dataframe\">\n",
       "  <thead>\n",
       "    <tr style=\"text-align: right;\">\n",
       "      <th></th>\n",
       "      <th>PassengerId</th>\n",
       "      <th>Survived</th>\n",
       "      <th>Pclass</th>\n",
       "      <th>Name</th>\n",
       "      <th>Sex</th>\n",
       "      <th>Age</th>\n",
       "      <th>SibSp</th>\n",
       "      <th>Parch</th>\n",
       "      <th>Ticket</th>\n",
       "      <th>Fare</th>\n",
       "      <th>Cabin</th>\n",
       "      <th>Embarked</th>\n",
       "    </tr>\n",
       "  </thead>\n",
       "  <tbody>\n",
       "    <tr>\n",
       "      <th>0</th>\n",
       "      <td>1</td>\n",
       "      <td>0</td>\n",
       "      <td>3</td>\n",
       "      <td>Braund, Mr. Owen Harris</td>\n",
       "      <td>male</td>\n",
       "      <td>22.0</td>\n",
       "      <td>1</td>\n",
       "      <td>0</td>\n",
       "      <td>A/5 21171</td>\n",
       "      <td>7.2500</td>\n",
       "      <td>NaN</td>\n",
       "      <td>S</td>\n",
       "    </tr>\n",
       "    <tr>\n",
       "      <th>1</th>\n",
       "      <td>2</td>\n",
       "      <td>1</td>\n",
       "      <td>1</td>\n",
       "      <td>Cumings, Mrs. John Bradley (Florence Briggs Th...</td>\n",
       "      <td>female</td>\n",
       "      <td>38.0</td>\n",
       "      <td>1</td>\n",
       "      <td>0</td>\n",
       "      <td>PC 17599</td>\n",
       "      <td>71.2833</td>\n",
       "      <td>C85</td>\n",
       "      <td>C</td>\n",
       "    </tr>\n",
       "    <tr>\n",
       "      <th>2</th>\n",
       "      <td>3</td>\n",
       "      <td>1</td>\n",
       "      <td>3</td>\n",
       "      <td>Heikkinen, Miss. Laina</td>\n",
       "      <td>female</td>\n",
       "      <td>26.0</td>\n",
       "      <td>0</td>\n",
       "      <td>0</td>\n",
       "      <td>STON/O2. 3101282</td>\n",
       "      <td>7.9250</td>\n",
       "      <td>NaN</td>\n",
       "      <td>S</td>\n",
       "    </tr>\n",
       "    <tr>\n",
       "      <th>3</th>\n",
       "      <td>4</td>\n",
       "      <td>1</td>\n",
       "      <td>1</td>\n",
       "      <td>Futrelle, Mrs. Jacques Heath (Lily May Peel)</td>\n",
       "      <td>female</td>\n",
       "      <td>35.0</td>\n",
       "      <td>1</td>\n",
       "      <td>0</td>\n",
       "      <td>113803</td>\n",
       "      <td>53.1000</td>\n",
       "      <td>C123</td>\n",
       "      <td>S</td>\n",
       "    </tr>\n",
       "    <tr>\n",
       "      <th>4</th>\n",
       "      <td>5</td>\n",
       "      <td>0</td>\n",
       "      <td>3</td>\n",
       "      <td>Allen, Mr. William Henry</td>\n",
       "      <td>male</td>\n",
       "      <td>35.0</td>\n",
       "      <td>0</td>\n",
       "      <td>0</td>\n",
       "      <td>373450</td>\n",
       "      <td>8.0500</td>\n",
       "      <td>NaN</td>\n",
       "      <td>S</td>\n",
       "    </tr>\n",
       "  </tbody>\n",
       "</table>\n",
       "</div>"
      ],
      "text/plain": [
       "   PassengerId  Survived  Pclass  \\\n",
       "0            1         0       3   \n",
       "1            2         1       1   \n",
       "2            3         1       3   \n",
       "3            4         1       1   \n",
       "4            5         0       3   \n",
       "\n",
       "                                                Name     Sex   Age  SibSp  \\\n",
       "0                            Braund, Mr. Owen Harris    male  22.0      1   \n",
       "1  Cumings, Mrs. John Bradley (Florence Briggs Th...  female  38.0      1   \n",
       "2                             Heikkinen, Miss. Laina  female  26.0      0   \n",
       "3       Futrelle, Mrs. Jacques Heath (Lily May Peel)  female  35.0      1   \n",
       "4                           Allen, Mr. William Henry    male  35.0      0   \n",
       "\n",
       "   Parch            Ticket     Fare Cabin Embarked  \n",
       "0      0         A/5 21171   7.2500   NaN        S  \n",
       "1      0          PC 17599  71.2833   C85        C  \n",
       "2      0  STON/O2. 3101282   7.9250   NaN        S  \n",
       "3      0            113803  53.1000  C123        S  \n",
       "4      0            373450   8.0500   NaN        S  "
      ]
     },
     "execution_count": 31,
     "metadata": {},
     "output_type": "execute_result"
    }
   ],
   "source": [
    "titanic_set = pd.read_csv('train.csv')\n",
    "titanic_set.head()"
   ]
  },
  {
   "cell_type": "markdown",
   "id": "1c9df0e0-e14c-49d2-88f0-265ea1270540",
   "metadata": {},
   "source": [
    "1. Kazada ölenlerin yaş ortalamasını bulunuz."
   ]
  },
  {
   "cell_type": "code",
   "execution_count": 36,
   "id": "86008b85-c254-475c-9f6b-724ec27ecff4",
   "metadata": {},
   "outputs": [
    {
     "data": {
      "text/plain": [
       "30.62617924528302"
      ]
     },
     "execution_count": 36,
     "metadata": {},
     "output_type": "execute_result"
    }
   ],
   "source": [
    "deaths = titanic_set[titanic_set['Survived'] == 0]\n",
    "averaga_age_deaths = deaths['Age'].mean()\n",
    "averaga_age_deaths"
   ]
  },
  {
   "cell_type": "markdown",
   "id": "4cc1576b-8800-4f9f-8663-505caeb1ecd4",
   "metadata": {},
   "source": [
    "2. Kazada ölenlerin bilet fiyatlarının ortalamasını ve medyanını bulunuz."
   ]
  },
  {
   "cell_type": "code",
   "execution_count": 47,
   "id": "c5834c19-2a3d-465a-bf72-de0f79841de2",
   "metadata": {},
   "outputs": [
    {
     "data": {
      "text/plain": [
       "22.117886885245902"
      ]
     },
     "execution_count": 47,
     "metadata": {},
     "output_type": "execute_result"
    }
   ],
   "source": [
    "avg_ticket_price = deaths[\"Fare\"].mean()\n",
    "avg_ticket_price"
   ]
  },
  {
   "cell_type": "code",
   "execution_count": 49,
   "id": "86ec69a8-0528-48f3-b088-b305fc08e04a",
   "metadata": {},
   "outputs": [
    {
     "data": {
      "text/plain": [
       "10.5"
      ]
     },
     "execution_count": 49,
     "metadata": {},
     "output_type": "execute_result"
    }
   ],
   "source": [
    "med_ticket_price = deaths[\"Fare\"].median()\n",
    "med_ticket_price"
   ]
  },
  {
   "cell_type": "markdown",
   "id": "e2faef7b-b697-4693-b65d-a87d28491e28",
   "metadata": {},
   "source": [
    "3. Kazada ölen erkeklerin yaş ortalamasını bulunuz."
   ]
  },
  {
   "cell_type": "code",
   "execution_count": 115,
   "id": "03a75e93-b51c-4514-a6fa-7286722ea78d",
   "metadata": {},
   "outputs": [
    {
     "data": {
      "text/plain": [
       "31.618055555555557"
      ]
     },
     "execution_count": 115,
     "metadata": {},
     "output_type": "execute_result"
    }
   ],
   "source": [
    "male = titanic_set[titanic_set[\"Sex\"] == \"male\"]\n",
    "death_male = male[male[\"Survived\"] == 0]\n",
    "avg_age_death_male = death_male[\"Age\"].mean()\n",
    "avg_age_death_male"
   ]
  },
  {
   "cell_type": "markdown",
   "id": "682e9c56-e0d2-4c76-ab43-ddf5827d6059",
   "metadata": {},
   "source": [
    "4. Kazada ölen kadınların yaş ortalamasını bulunuz."
   ]
  },
  {
   "cell_type": "code",
   "execution_count": 117,
   "id": "f6688004-2cee-4c17-b959-a9bf6a1801b4",
   "metadata": {},
   "outputs": [
    {
     "data": {
      "text/plain": [
       "25.046875"
      ]
     },
     "execution_count": 117,
     "metadata": {},
     "output_type": "execute_result"
    }
   ],
   "source": [
    "female = titanic_set[titanic_set[\"Sex\"] == \"female\"]\n",
    "death_female = female[female[\"Survived\"] == 0]\n",
    "avg_age_death_female = death_female[\"Age\"].mean()\n",
    "avg_age_death_female"
   ]
  },
  {
   "cell_type": "markdown",
   "id": "f63fc182-b3ca-44f5-bace-a056b3f8ee5d",
   "metadata": {},
   "source": [
    "5. Kazadan kurtulanların yaş ortalamasını bulunuz."
   ]
  },
  {
   "cell_type": "code",
   "execution_count": 119,
   "id": "c56bac56-3782-4a58-97c3-312238016113",
   "metadata": {},
   "outputs": [
    {
     "data": {
      "text/plain": [
       "28.343689655172415"
      ]
     },
     "execution_count": 119,
     "metadata": {},
     "output_type": "execute_result"
    }
   ],
   "source": [
    "survived_people = titanic_set[titanic_set[\"Survived\"] == 1]\n",
    "avg_age_survived_people = survived_people[\"Age\"].mean()\n",
    "avg_age_survived_people"
   ]
  },
  {
   "cell_type": "markdown",
   "id": "a3988df2-d731-47a5-8d37-828bef402435",
   "metadata": {},
   "source": [
    "6. Kazadan kurtulanların bilet fiyatlarının ortalamasını bulunuz."
   ]
  },
  {
   "cell_type": "code",
   "execution_count": 121,
   "id": "f4b3ab69-9eef-420b-9e7f-98347d789d5c",
   "metadata": {},
   "outputs": [
    {
     "data": {
      "text/plain": [
       "48.39540760233918"
      ]
     },
     "execution_count": 121,
     "metadata": {},
     "output_type": "execute_result"
    }
   ],
   "source": [
    "avg_ticket_price_survived_people = survived_people[\"Fare\"].mean()\n",
    "avg_ticket_price_survived_people"
   ]
  },
  {
   "cell_type": "markdown",
   "id": "2f9a82ab-903e-45ed-9d99-c5f92d269145",
   "metadata": {},
   "source": [
    "7. Kazadan kurtulan toplam kişi sayısını bulunuz."
   ]
  },
  {
   "cell_type": "code",
   "execution_count": 123,
   "id": "4aa245bd-5d2d-4e5c-9ae1-91d169ae94fa",
   "metadata": {},
   "outputs": [
    {
     "data": {
      "text/plain": [
       "342"
      ]
     },
     "execution_count": 123,
     "metadata": {},
     "output_type": "execute_result"
    }
   ],
   "source": [
    "len(survived_people)"
   ]
  },
  {
   "cell_type": "markdown",
   "id": "b6dc11f4-b5d6-4b50-9d13-bb0bd5913307",
   "metadata": {},
   "source": [
    "8. 10 yaşından küçüklerin bilet fiyatlarının medyan değerini bulunuz."
   ]
  },
  {
   "cell_type": "code",
   "execution_count": 125,
   "id": "da1a8890-f22b-4c95-91a5-08f64db67bd0",
   "metadata": {},
   "outputs": [
    {
     "data": {
      "text/plain": [
       "27.0"
      ]
     },
     "execution_count": 125,
     "metadata": {},
     "output_type": "execute_result"
    }
   ],
   "source": [
    "younger_ten = titanic_set[titanic_set[\"Age\"] < 10]\n",
    "younger_ten[\"Fare\"].median()"
   ]
  },
  {
   "cell_type": "markdown",
   "id": "d6e54907-cecf-4c6c-8bf7-4eb807c2b7d6",
   "metadata": {},
   "source": [
    "9.  1 . sınıf, 2. sınıf ve 3. sınıf bilet fiyatlarının ortalama ve medyanlarını karşılaştırınız. (Pclass değişkeni sınıfları barındırmaktadır.)"
   ]
  },
  {
   "cell_type": "code",
   "execution_count": 127,
   "id": "47a5c9ce-d33b-4489-82df-ab5f97f627c1",
   "metadata": {},
   "outputs": [],
   "source": [
    "first_class = titanic_set[titanic_set[\"Pclass\"] == 1]\n",
    "second_class = titanic_set[titanic_set[\"Pclass\"] == 2]\n",
    "third_class = titanic_set[titanic_set[\"Pclass\"] == 3]\n",
    "avg_first_ticket_price = first_class[\"Fare\"].mean()\n",
    "avg_second_ticket_price = second_class[\"Fare\"].mean()\n",
    "avg_third_ticket_price = third_class[\"Fare\"].mean()\n",
    "med_first_ticket_price = first_class[\"Fare\"].median()\n",
    "med_second_ticket_price = second_class[\"Fare\"].median()\n",
    "med_third_ticket_price = third_class[\"Fare\"].median()"
   ]
  },
  {
   "cell_type": "code",
   "execution_count": 129,
   "id": "57b900cc-58ed-4729-8fc8-a7d8fda7858b",
   "metadata": {},
   "outputs": [
    {
     "data": {
      "text/plain": [
       "True"
      ]
     },
     "execution_count": 129,
     "metadata": {},
     "output_type": "execute_result"
    }
   ],
   "source": [
    "avg_first_ticket_price > avg_second_ticket_price"
   ]
  },
  {
   "cell_type": "code",
   "execution_count": 131,
   "id": "2d887db2-4884-4b22-a7be-c87a9e810b60",
   "metadata": {},
   "outputs": [
    {
     "data": {
      "text/plain": [
       "True"
      ]
     },
     "execution_count": 131,
     "metadata": {},
     "output_type": "execute_result"
    }
   ],
   "source": [
    "avg_first_ticket_price > avg_third_ticket_price"
   ]
  },
  {
   "cell_type": "code",
   "execution_count": 133,
   "id": "151e842c-4b38-462a-b188-e97389907e8e",
   "metadata": {},
   "outputs": [
    {
     "data": {
      "text/plain": [
       "True"
      ]
     },
     "execution_count": 133,
     "metadata": {},
     "output_type": "execute_result"
    }
   ],
   "source": [
    "avg_second_ticket_price > avg_third_ticket_price"
   ]
  },
  {
   "cell_type": "markdown",
   "id": "ace2b8a0-bf68-4375-81b3-af5dc395a5d9",
   "metadata": {},
   "source": [
    "10. Kazada ölen kadınların oranı ile erkeklerin oranını karşılaştırınız. (Örnek: erkekler için; ölen erkeklerin, erkek sayısına bölümü bu oranı vermektedir.)"
   ]
  },
  {
   "cell_type": "code",
   "execution_count": 135,
   "id": "b0be6518-401d-4eab-ba20-613607148b60",
   "metadata": {},
   "outputs": [
    {
     "data": {
      "text/plain": [
       "0.8110918544194108"
      ]
     },
     "execution_count": 135,
     "metadata": {},
     "output_type": "execute_result"
    }
   ],
   "source": [
    "male = titanic_set[titanic_set[\"Sex\"] == \"male\"]\n",
    "male_ratio = len(death_male) / len(male)\n",
    "male_ratio"
   ]
  },
  {
   "cell_type": "code",
   "execution_count": 137,
   "id": "dc2e4e79-7dc6-4d45-a459-e354bdb659f6",
   "metadata": {},
   "outputs": [
    {
     "data": {
      "text/plain": [
       "0.25796178343949044"
      ]
     },
     "execution_count": 137,
     "metadata": {},
     "output_type": "execute_result"
    }
   ],
   "source": [
    "female = titanic_set[titanic_set[\"Sex\"] == \"female\"]\n",
    "female_ratio = (len(death_female) / len(female))\n",
    "female_ratio"
   ]
  }
 ],
 "metadata": {
  "kernelspec": {
   "display_name": "Python [conda env:base] *",
   "language": "python",
   "name": "conda-base-py"
  },
  "language_info": {
   "codemirror_mode": {
    "name": "ipython",
    "version": 3
   },
   "file_extension": ".py",
   "mimetype": "text/x-python",
   "name": "python",
   "nbconvert_exporter": "python",
   "pygments_lexer": "ipython3",
   "version": "3.11.7"
  }
 },
 "nbformat": 4,
 "nbformat_minor": 5
}
